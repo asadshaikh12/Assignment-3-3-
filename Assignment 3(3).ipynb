{
 "cells": [
  {
   "cell_type": "code",
   "execution_count": 4,
   "id": "dd985427",
   "metadata": {},
   "outputs": [],
   "source": [
    "#Write a Python function that accepts a string and calculate the number of upper case letters and lower case letters.\n",
    "\n",
    "\n",
    "\n",
    "#Sample String : 'The quick Brow Fox'\n",
    "\n",
    "#Expected Output :\n",
    "\n",
    "#No. of Upper case characters : 3\n",
    "\n",
    "#No. of Lower case Characters : 12\n",
    "\n",
    "\n",
    "\n",
    "def String():\n",
    "    t=input()\n",
    "    \n",
    "    v = 0\n",
    "    f = 0\n",
    "    for i in t:\n",
    "        if i.isupper():\n",
    "            v=v+1\n",
    "        if i.islower():\n",
    "            f=f+1\n",
    "            \n",
    "    print(\"no. of upper case characters :\", v)\n",
    "    print(\"no. of lower case characters :\", f)\n",
    "    "
   ]
  },
  {
   "cell_type": "code",
   "execution_count": 5,
   "id": "cd9d5f28",
   "metadata": {},
   "outputs": [
    {
     "name": "stdout",
     "output_type": "stream",
     "text": [
      "The quick Brow Fox\n",
      "no. of upper case characters : 3\n",
      "no. of lower case characters : 12\n"
     ]
    }
   ],
   "source": [
    "String()"
   ]
  },
  {
   "cell_type": "code",
   "execution_count": null,
   "id": "e31dbe0a",
   "metadata": {},
   "outputs": [],
   "source": []
  }
 ],
 "metadata": {
  "kernelspec": {
   "display_name": "Python 3 (ipykernel)",
   "language": "python",
   "name": "python3"
  },
  "language_info": {
   "codemirror_mode": {
    "name": "ipython",
    "version": 3
   },
   "file_extension": ".py",
   "mimetype": "text/x-python",
   "name": "python",
   "nbconvert_exporter": "python",
   "pygments_lexer": "ipython3",
   "version": "3.10.1"
  }
 },
 "nbformat": 4,
 "nbformat_minor": 5
}
